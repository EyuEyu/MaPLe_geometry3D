{
 "cells": [
  {
   "cell_type": "code",
   "execution_count": 34,
   "id": "b29da8ee-7fcc-487c-bb4e-d2aa6e9f9599",
   "metadata": {},
   "outputs": [],
   "source": [
    "import numpy as np\n",
    "import scipy.sparse as sp\n",
    "import time\n",
    "\n",
    "import igl\n",
    "import meshplot as mp"
   ]
  },
  {
   "cell_type": "code",
   "execution_count": 35,
   "id": "bb03093d-7346-4300-9bb8-b46971ea8c7c",
   "metadata": {},
   "outputs": [],
   "source": [
    "def benchmark(f, repeat=10, *args, **kwargs):\n",
    "    times = []\n",
    "\n",
    "    for _ in range(repeat):\n",
    "        tic = time.time()\n",
    "        f(*args, **kwargs)\n",
    "        toc = time.time()\n",
    "        times.append(toc - tic)\n",
    "\n",
    "    times = np.array(times)\n",
    "\n",
    "    print(f\"repeat {repeat}\")\n",
    "    # for t in times:\n",
    "    #     print(f\"time {t:.4f}s\")\n",
    "\n",
    "    print()\n",
    "    print(f\"average {np.mean(times):.8f}s\")\n",
    "    print(f\"minimum {np.min(times):.8f}s\")\n",
    "    print(f\"maximum {np.max(times):.8f}s\")\n",
    "    print(f\"std dev {np.std(times):.8f}s\")"
   ]
  },
  {
   "cell_type": "markdown",
   "id": "a5324f38-29c6-4db4-8ca2-94bb785da550",
   "metadata": {},
   "source": [
    "# Part1. Read DATA (obj, off, ...)"
   ]
  },
  {
   "cell_type": "code",
   "execution_count": 36,
   "id": "007b4207-b986-46ad-8ca1-28c71946b616",
   "metadata": {},
   "outputs": [],
   "source": [
    "# V, F = igl.read_triangle_mesh(\"data/sphere.obj\")\n",
    "# V, F = igl.read_triangle_mesh(\"data/truck.obj\")\n",
    "V, F = igl.read_triangle_mesh(\"data/human.obj\")"
   ]
  },
  {
   "cell_type": "code",
   "execution_count": 37,
   "id": "a8bec151-95cd-420f-b83d-714bcb87881f",
   "metadata": {},
   "outputs": [
    {
     "data": {
      "text/plain": [
       "24461"
      ]
     },
     "execution_count": 37,
     "metadata": {},
     "output_type": "execute_result"
    }
   ],
   "source": [
    "V.shape[0]"
   ]
  },
  {
   "cell_type": "code",
   "execution_count": 38,
   "id": "0896ab75-9870-4841-9bac-f4e400525326",
   "metadata": {},
   "outputs": [
    {
     "data": {
      "text/plain": [
       "48918"
      ]
     },
     "execution_count": 38,
     "metadata": {},
     "output_type": "execute_result"
    }
   ],
   "source": [
    "F.shape[0]"
   ]
  },
  {
   "cell_type": "markdown",
   "id": "32189587-511a-4200-b9e5-68c85a373f02",
   "metadata": {},
   "source": [
    "# Part2. Compute normals for vertices"
   ]
  },
  {
   "cell_type": "code",
   "execution_count": 39,
   "id": "9a5e0882-f859-4fa5-9eee-3a2ff3e7b780",
   "metadata": {},
   "outputs": [],
   "source": [
    "nor1_vec = np.array([0.57735027, 0.57735027, 0.57735027])\n",
    "ni_face = igl.per_face_normals(V, F, nor1_vec)"
   ]
  },
  {
   "cell_type": "code",
   "execution_count": 40,
   "id": "fc25b7e8-6a79-49b4-9e54-8a84e6c1e8b3",
   "metadata": {},
   "outputs": [],
   "source": [
    "ni_vertex = igl.per_vertex_normals(V, F)"
   ]
  },
  {
   "cell_type": "code",
   "execution_count": 41,
   "id": "848397b3-f23c-40bb-9cfb-e8cd979b120b",
   "metadata": {},
   "outputs": [],
   "source": [
    "# ni_face[:2, :]"
   ]
  },
  {
   "cell_type": "code",
   "execution_count": 43,
   "id": "153eb0e8-f43e-40c2-a7df-dd17237593e0",
   "metadata": {},
   "outputs": [
    {
     "data": {
      "text/plain": [
       "array([[-0.70531118, -0.34799726, -0.61760347],\n",
       "       [-0.50873144, -0.34111434, -0.790464  ],\n",
       "       [-0.55473048, -0.30656063, -0.77349511],\n",
       "       [-0.43593887, -0.31290787, -0.84382816],\n",
       "       [-0.44070444, -0.2582792 , -0.85969265]])"
      ]
     },
     "execution_count": 43,
     "metadata": {},
     "output_type": "execute_result"
    }
   ],
   "source": [
    "ni_vertex[77:82, :]"
   ]
  },
  {
   "cell_type": "markdown",
   "id": "42cc46ad-0571-44a1-99f2-e4e5099254f5",
   "metadata": {
    "jp-MarkdownHeadingCollapsed": true
   },
   "source": [
    "# Part3. Compute adjacency triangles for each face"
   ]
  },
  {
   "cell_type": "code",
   "execution_count": 30,
   "id": "c2c7e949-f5dd-4d04-b4df-308a91f90ae1",
   "metadata": {},
   "outputs": [],
   "source": [
    "# -1 means no adj triangle\n",
    "tt, _ = igl.triangle_triangle_adjacency(F)"
   ]
  },
  {
   "cell_type": "code",
   "execution_count": 31,
   "id": "1553b7ba-faad-4029-bc12-38791926f509",
   "metadata": {},
   "outputs": [],
   "source": [
    "# tt"
   ]
  },
  {
   "cell_type": "markdown",
   "id": "0c950180-74bf-497d-8a7e-9a861534bebe",
   "metadata": {
    "jp-MarkdownHeadingCollapsed": true
   },
   "source": [
    "# Part4. Compute mass matrix for each vi"
   ]
  },
  {
   "cell_type": "code",
   "execution_count": 32,
   "id": "ccbe497e-5bcc-4b3f-9f1a-81edb210cd6f",
   "metadata": {},
   "outputs": [],
   "source": [
    "mass = igl.massmatrix(V, F, igl.MASSMATRIX_TYPE_VORONOI)\n",
    "# mass = igl.massmatrix(V, F, igl.MASSMATRIX_TYPE_BARYCENTRIC)"
   ]
  },
  {
   "cell_type": "code",
   "execution_count": 33,
   "id": "d10450b8-55f5-4420-8e8d-7261b8a52a37",
   "metadata": {},
   "outputs": [
    {
     "data": {
      "text/plain": [
       "<Compressed Sparse Column sparse matrix of dtype 'float64'\n",
       "\twith 382 stored elements and shape (382, 382)>"
      ]
     },
     "execution_count": 33,
     "metadata": {},
     "output_type": "execute_result"
    }
   ],
   "source": [
    "mass"
   ]
  },
  {
   "cell_type": "code",
   "execution_count": 34,
   "id": "d2dc8e31-0e35-4efb-90ae-09325bc32a94",
   "metadata": {},
   "outputs": [
    {
     "data": {
      "text/plain": [
       "array([0.00376191, 0.00376197, 0.00376196, 0.00376192, 0.00376203])"
      ]
     },
     "execution_count": 34,
     "metadata": {},
     "output_type": "execute_result"
    }
   ],
   "source": [
    "mass.data[:5]"
   ]
  },
  {
   "cell_type": "markdown",
   "id": "3dc9121e-49c3-4c8b-a303-f1a5d859a24a",
   "metadata": {},
   "source": [
    "# Part5. Compute cotangent matrix for vi - vi"
   ]
  },
  {
   "cell_type": "code",
   "execution_count": 161,
   "id": "63a7e91d-0f52-4a9f-8eb3-33ffff612fc3",
   "metadata": {},
   "outputs": [],
   "source": [
    "ce = igl.cotmatrix_entries(V, F)"
   ]
  },
  {
   "cell_type": "code",
   "execution_count": 162,
   "id": "772b5774-b97f-431a-bdf4-268809690485",
   "metadata": {},
   "outputs": [
    {
     "data": {
      "text/plain": [
       "(48918, 3)"
      ]
     },
     "execution_count": 162,
     "metadata": {},
     "output_type": "execute_result"
    }
   ],
   "source": [
    "ce.shape"
   ]
  },
  {
   "cell_type": "code",
   "execution_count": 163,
   "id": "c22c1de9-3c7a-47c8-9ef0-87dc60de6f07",
   "metadata": {},
   "outputs": [],
   "source": [
    "cot = igl.cotmatrix(V, F)"
   ]
  },
  {
   "cell_type": "code",
   "execution_count": 164,
   "id": "02495d4c-acd5-474a-9447-13398bfae0b5",
   "metadata": {},
   "outputs": [
    {
     "data": {
      "text/plain": [
       "<Compressed Sparse Column sparse matrix of dtype 'float64'\n",
       "\twith 171215 stored elements and shape (24461, 24461)>"
      ]
     },
     "execution_count": 164,
     "metadata": {},
     "output_type": "execute_result"
    }
   ],
   "source": [
    "cot"
   ]
  },
  {
   "cell_type": "code",
   "execution_count": 165,
   "id": "1a991f75-5a0d-46ed-b36d-5522a917ddde",
   "metadata": {},
   "outputs": [],
   "source": [
    "coo = cot.tocoo()"
   ]
  },
  {
   "cell_type": "code",
   "execution_count": 166,
   "id": "7d8c73e0-20eb-4d03-b994-68cef51d3b67",
   "metadata": {},
   "outputs": [
    {
     "data": {
      "text/plain": [
       "array([    0,     1,     2, ..., 21867, 21870, 24460], dtype=int32)"
      ]
     },
     "execution_count": 166,
     "metadata": {},
     "output_type": "execute_result"
    }
   ],
   "source": [
    "coo.row"
   ]
  },
  {
   "cell_type": "code",
   "execution_count": 167,
   "id": "1de653f0-a72b-4101-b4c1-9a7f5d49f9ad",
   "metadata": {},
   "outputs": [
    {
     "data": {
      "text/plain": [
       "array([    0,     0,     0, ..., 24460, 24460, 24460], dtype=int32)"
      ]
     },
     "execution_count": 167,
     "metadata": {},
     "output_type": "execute_result"
    }
   ],
   "source": [
    "coo.col"
   ]
  },
  {
   "cell_type": "code",
   "execution_count": 168,
   "id": "f5c38906-2d2c-444b-8491-c05b4b2fe089",
   "metadata": {},
   "outputs": [
    {
     "data": {
      "text/plain": [
       "array([-3.73435332,  0.72395803,  0.33445503,  0.7887416 ,  0.77900912,\n",
       "        0.11443824])"
      ]
     },
     "execution_count": 168,
     "metadata": {},
     "output_type": "execute_result"
    }
   ],
   "source": [
    "coo.data[:6]"
   ]
  },
  {
   "cell_type": "markdown",
   "id": "3c735a0e-5634-4585-be30-f71bbf42097b",
   "metadata": {},
   "source": [
    "# BenchMark"
   ]
  },
  {
   "cell_type": "code",
   "execution_count": 25,
   "id": "7860fc26-f0d5-43d6-a1a8-acbc5324d4ee",
   "metadata": {},
   "outputs": [],
   "source": [
    "def bench_perfacenormal():\n",
    "    nor1_vec = np.array([0.57735027, 0.57735027, 0.57735027])\n",
    "    ni_face = igl.per_face_normals(V, F, nor1_vec)\n",
    "\n",
    "def bench_pervertexnormal():\n",
    "    ni_vertex = igl.per_vertex_normals(V, F)\n",
    "\n",
    "def bench_mass():\n",
    "    mass = igl.massmatrix(V, F, igl.MASSMATRIX_TYPE_VORONOI)\n",
    "\n",
    "def compute_cot():\n",
    "    igl.cotmatrix(V, F)\n",
    "\n",
    "def compute_cot_entries():\n",
    "    igl.cotmatrix_entries(V, F)"
   ]
  },
  {
   "cell_type": "code",
   "execution_count": 26,
   "id": "93704a89-f2be-4be2-b89f-30b8ef5e0a59",
   "metadata": {},
   "outputs": [
    {
     "name": "stdout",
     "output_type": "stream",
     "text": [
      "repeat 100\n",
      "\n",
      "average 0.00089823s\n",
      "minimum 0.00048208s\n",
      "maximum 0.00336194s\n",
      "std dev 0.00049036s\n"
     ]
    }
   ],
   "source": [
    "benchmark(bench_pervertexnormal, repeat=100)"
   ]
  },
  {
   "cell_type": "code",
   "execution_count": null,
   "id": "0b72544c-1bf6-43b5-8936-a3c48f39c068",
   "metadata": {},
   "outputs": [],
   "source": []
  }
 ],
 "metadata": {
  "kernelspec": {
   "display_name": "Python 3 (ipykernel)",
   "language": "python",
   "name": "python3"
  },
  "language_info": {
   "codemirror_mode": {
    "name": "ipython",
    "version": 3
   },
   "file_extension": ".py",
   "mimetype": "text/x-python",
   "name": "python",
   "nbconvert_exporter": "python",
   "pygments_lexer": "ipython3",
   "version": "3.12.0"
  }
 },
 "nbformat": 4,
 "nbformat_minor": 5
}
